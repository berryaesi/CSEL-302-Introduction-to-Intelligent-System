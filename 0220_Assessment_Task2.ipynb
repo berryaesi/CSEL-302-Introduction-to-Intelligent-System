{
  "nbformat": 4,
  "nbformat_minor": 0,
  "metadata": {
    "colab": {
      "provenance": [],
      "authorship_tag": "ABX9TyPPo2rSQSInUCYnBJ2bUMe3",
      "include_colab_link": true
    },
    "kernelspec": {
      "name": "python3",
      "display_name": "Python 3"
    },
    "language_info": {
      "name": "python"
    }
  },
  "cells": [
    {
      "cell_type": "markdown",
      "metadata": {
        "id": "view-in-github",
        "colab_type": "text"
      },
      "source": [
        "<a href=\"https://colab.research.google.com/github/berryaesi/CSEL-302-Introduction-to-Intelligent-System/blob/main/0220_Assessment_Task2.ipynb\" target=\"_parent\"><img src=\"https://colab.research.google.com/assets/colab-badge.svg\" alt=\"Open In Colab\"/></a>"
      ]
    },
    {
      "cell_type": "markdown",
      "source": [
        "# **Import Libraries**"
      ],
      "metadata": {
        "id": "GiU9BdbNiTAI"
      }
    },
    {
      "cell_type": "code",
      "execution_count": null,
      "metadata": {
        "id": "r3f51Q6xh_iY"
      },
      "outputs": [],
      "source": [
        "import pandas as pd\n",
        "import matplotlib.pyplot as plt"
      ]
    },
    {
      "cell_type": "markdown",
      "source": [
        "# **1. Data Loading**"
      ],
      "metadata": {
        "id": "YTnnr-DtibSW"
      }
    },
    {
      "cell_type": "code",
      "source": [
        "data = pd.read_csv('hardwareStore.csv')\n",
        "data.head()"
      ],
      "metadata": {
        "colab": {
          "base_uri": "https://localhost:8080/",
          "height": 394
        },
        "id": "upQ1_2bJidc-",
        "outputId": "430524c2-55b2-406c-f9a2-ed05402ad965"
      },
      "execution_count": null,
      "outputs": [
        {
          "output_type": "execute_result",
          "data": {
            "text/plain": [
              "   CATEGORY_ID CATEGORY_NAME  PRODUCT_ID           PRODUCT_NAME  \\\n",
              "0            1           CPU           8  Intel Xeon E5-1650 V4   \n",
              "1            1           CPU           8  Intel Xeon E5-1650 V4   \n",
              "2            1           CPU           8  Intel Xeon E5-1650 V4   \n",
              "3            1           CPU           8  Intel Xeon E5-1650 V4   \n",
              "4            1           CPU           8  Intel Xeon E5-1650 V4   \n",
              "\n",
              "                     DESCRIPTION DESCRIPTION - Detail 1  \\\n",
              "0  Speed:3.6GHz,Cores:6,TDP:140W           Speed:3.6GHz   \n",
              "1  Speed:3.6GHz,Cores:6,TDP:140W           Speed:3.6GHz   \n",
              "2  Speed:3.6GHz,Cores:6,TDP:140W           Speed:3.6GHz   \n",
              "3  Speed:3.6GHz,Cores:6,TDP:140W           Speed:3.6GHz   \n",
              "4  Speed:3.6GHz,Cores:6,TDP:140W           Speed:3.6GHz   \n",
              "\n",
              "  DESCRIPTION - Detail 2 DESCRIPTION - Detail 3 DESCRIPTION - Detail 4  \\\n",
              "0                Cores:6               TDP:140W                    NaN   \n",
              "1                Cores:6               TDP:140W                    NaN   \n",
              "2                Cores:6               TDP:140W                    NaN   \n",
              "3                Cores:6               TDP:140W                    NaN   \n",
              "4                Cores:6               TDP:140W                    NaN   \n",
              "\n",
              "   STANDARD_COST  ...  REGION_ID LOCATION_ID  WAREHOUSE_ID  QUANTITY  \\\n",
              "0         535.47  ...          3          11             8        50   \n",
              "1         535.47  ...          3          12             9        36   \n",
              "2         535.47  ...          2           6             2        97   \n",
              "3         535.47  ...          2           8             4        67   \n",
              "4         535.47  ...          3          13             6        30   \n",
              "\n",
              "        WAREHOUSE_NAME                ADDRESS POSTAL_CODE  \\\n",
              "0              Beijing    40-5-12 Laogianggen      190518   \n",
              "1               Bombay     1298 Vileparle (E)      490231   \n",
              "2        San Francisco    2011 Interiors Blvd       99236   \n",
              "3  Seattle, Washington        2004 Charade Rd       98199   \n",
              "4               Sydney  12-98 Victoria Street        2901   \n",
              "\n",
              "                  CITY            STATE              COUNTRY_NAME  \n",
              "0              Beijing         Shenzhen                     China  \n",
              "1               Bombay      Maharashtra                     India  \n",
              "2  South San Francisco       California  United States of America  \n",
              "3              Seattle       Washington  United States of America  \n",
              "4               Sydney  New South Wales                 Australia  \n",
              "\n",
              "[5 rows x 22 columns]"
            ],
            "text/html": [
              "\n",
              "  <div id=\"df-98a98cce-93ec-4982-8f57-5654f206918b\" class=\"colab-df-container\">\n",
              "    <div>\n",
              "<style scoped>\n",
              "    .dataframe tbody tr th:only-of-type {\n",
              "        vertical-align: middle;\n",
              "    }\n",
              "\n",
              "    .dataframe tbody tr th {\n",
              "        vertical-align: top;\n",
              "    }\n",
              "\n",
              "    .dataframe thead th {\n",
              "        text-align: right;\n",
              "    }\n",
              "</style>\n",
              "<table border=\"1\" class=\"dataframe\">\n",
              "  <thead>\n",
              "    <tr style=\"text-align: right;\">\n",
              "      <th></th>\n",
              "      <th>CATEGORY_ID</th>\n",
              "      <th>CATEGORY_NAME</th>\n",
              "      <th>PRODUCT_ID</th>\n",
              "      <th>PRODUCT_NAME</th>\n",
              "      <th>DESCRIPTION</th>\n",
              "      <th>DESCRIPTION - Detail 1</th>\n",
              "      <th>DESCRIPTION - Detail 2</th>\n",
              "      <th>DESCRIPTION - Detail 3</th>\n",
              "      <th>DESCRIPTION - Detail 4</th>\n",
              "      <th>STANDARD_COST</th>\n",
              "      <th>...</th>\n",
              "      <th>REGION_ID</th>\n",
              "      <th>LOCATION_ID</th>\n",
              "      <th>WAREHOUSE_ID</th>\n",
              "      <th>QUANTITY</th>\n",
              "      <th>WAREHOUSE_NAME</th>\n",
              "      <th>ADDRESS</th>\n",
              "      <th>POSTAL_CODE</th>\n",
              "      <th>CITY</th>\n",
              "      <th>STATE</th>\n",
              "      <th>COUNTRY_NAME</th>\n",
              "    </tr>\n",
              "  </thead>\n",
              "  <tbody>\n",
              "    <tr>\n",
              "      <th>0</th>\n",
              "      <td>1</td>\n",
              "      <td>CPU</td>\n",
              "      <td>8</td>\n",
              "      <td>Intel Xeon E5-1650 V4</td>\n",
              "      <td>Speed:3.6GHz,Cores:6,TDP:140W</td>\n",
              "      <td>Speed:3.6GHz</td>\n",
              "      <td>Cores:6</td>\n",
              "      <td>TDP:140W</td>\n",
              "      <td>NaN</td>\n",
              "      <td>535.47</td>\n",
              "      <td>...</td>\n",
              "      <td>3</td>\n",
              "      <td>11</td>\n",
              "      <td>8</td>\n",
              "      <td>50</td>\n",
              "      <td>Beijing</td>\n",
              "      <td>40-5-12 Laogianggen</td>\n",
              "      <td>190518</td>\n",
              "      <td>Beijing</td>\n",
              "      <td>Shenzhen</td>\n",
              "      <td>China</td>\n",
              "    </tr>\n",
              "    <tr>\n",
              "      <th>1</th>\n",
              "      <td>1</td>\n",
              "      <td>CPU</td>\n",
              "      <td>8</td>\n",
              "      <td>Intel Xeon E5-1650 V4</td>\n",
              "      <td>Speed:3.6GHz,Cores:6,TDP:140W</td>\n",
              "      <td>Speed:3.6GHz</td>\n",
              "      <td>Cores:6</td>\n",
              "      <td>TDP:140W</td>\n",
              "      <td>NaN</td>\n",
              "      <td>535.47</td>\n",
              "      <td>...</td>\n",
              "      <td>3</td>\n",
              "      <td>12</td>\n",
              "      <td>9</td>\n",
              "      <td>36</td>\n",
              "      <td>Bombay</td>\n",
              "      <td>1298 Vileparle (E)</td>\n",
              "      <td>490231</td>\n",
              "      <td>Bombay</td>\n",
              "      <td>Maharashtra</td>\n",
              "      <td>India</td>\n",
              "    </tr>\n",
              "    <tr>\n",
              "      <th>2</th>\n",
              "      <td>1</td>\n",
              "      <td>CPU</td>\n",
              "      <td>8</td>\n",
              "      <td>Intel Xeon E5-1650 V4</td>\n",
              "      <td>Speed:3.6GHz,Cores:6,TDP:140W</td>\n",
              "      <td>Speed:3.6GHz</td>\n",
              "      <td>Cores:6</td>\n",
              "      <td>TDP:140W</td>\n",
              "      <td>NaN</td>\n",
              "      <td>535.47</td>\n",
              "      <td>...</td>\n",
              "      <td>2</td>\n",
              "      <td>6</td>\n",
              "      <td>2</td>\n",
              "      <td>97</td>\n",
              "      <td>San Francisco</td>\n",
              "      <td>2011 Interiors Blvd</td>\n",
              "      <td>99236</td>\n",
              "      <td>South San Francisco</td>\n",
              "      <td>California</td>\n",
              "      <td>United States of America</td>\n",
              "    </tr>\n",
              "    <tr>\n",
              "      <th>3</th>\n",
              "      <td>1</td>\n",
              "      <td>CPU</td>\n",
              "      <td>8</td>\n",
              "      <td>Intel Xeon E5-1650 V4</td>\n",
              "      <td>Speed:3.6GHz,Cores:6,TDP:140W</td>\n",
              "      <td>Speed:3.6GHz</td>\n",
              "      <td>Cores:6</td>\n",
              "      <td>TDP:140W</td>\n",
              "      <td>NaN</td>\n",
              "      <td>535.47</td>\n",
              "      <td>...</td>\n",
              "      <td>2</td>\n",
              "      <td>8</td>\n",
              "      <td>4</td>\n",
              "      <td>67</td>\n",
              "      <td>Seattle, Washington</td>\n",
              "      <td>2004 Charade Rd</td>\n",
              "      <td>98199</td>\n",
              "      <td>Seattle</td>\n",
              "      <td>Washington</td>\n",
              "      <td>United States of America</td>\n",
              "    </tr>\n",
              "    <tr>\n",
              "      <th>4</th>\n",
              "      <td>1</td>\n",
              "      <td>CPU</td>\n",
              "      <td>8</td>\n",
              "      <td>Intel Xeon E5-1650 V4</td>\n",
              "      <td>Speed:3.6GHz,Cores:6,TDP:140W</td>\n",
              "      <td>Speed:3.6GHz</td>\n",
              "      <td>Cores:6</td>\n",
              "      <td>TDP:140W</td>\n",
              "      <td>NaN</td>\n",
              "      <td>535.47</td>\n",
              "      <td>...</td>\n",
              "      <td>3</td>\n",
              "      <td>13</td>\n",
              "      <td>6</td>\n",
              "      <td>30</td>\n",
              "      <td>Sydney</td>\n",
              "      <td>12-98 Victoria Street</td>\n",
              "      <td>2901</td>\n",
              "      <td>Sydney</td>\n",
              "      <td>New South Wales</td>\n",
              "      <td>Australia</td>\n",
              "    </tr>\n",
              "  </tbody>\n",
              "</table>\n",
              "<p>5 rows × 22 columns</p>\n",
              "</div>\n",
              "    <div class=\"colab-df-buttons\">\n",
              "\n",
              "  <div class=\"colab-df-container\">\n",
              "    <button class=\"colab-df-convert\" onclick=\"convertToInteractive('df-98a98cce-93ec-4982-8f57-5654f206918b')\"\n",
              "            title=\"Convert this dataframe to an interactive table.\"\n",
              "            style=\"display:none;\">\n",
              "\n",
              "  <svg xmlns=\"http://www.w3.org/2000/svg\" height=\"24px\" viewBox=\"0 -960 960 960\">\n",
              "    <path d=\"M120-120v-720h720v720H120Zm60-500h600v-160H180v160Zm220 220h160v-160H400v160Zm0 220h160v-160H400v160ZM180-400h160v-160H180v160Zm440 0h160v-160H620v160ZM180-180h160v-160H180v160Zm440 0h160v-160H620v160Z\"/>\n",
              "  </svg>\n",
              "    </button>\n",
              "\n",
              "  <style>\n",
              "    .colab-df-container {\n",
              "      display:flex;\n",
              "      gap: 12px;\n",
              "    }\n",
              "\n",
              "    .colab-df-convert {\n",
              "      background-color: #E8F0FE;\n",
              "      border: none;\n",
              "      border-radius: 50%;\n",
              "      cursor: pointer;\n",
              "      display: none;\n",
              "      fill: #1967D2;\n",
              "      height: 32px;\n",
              "      padding: 0 0 0 0;\n",
              "      width: 32px;\n",
              "    }\n",
              "\n",
              "    .colab-df-convert:hover {\n",
              "      background-color: #E2EBFA;\n",
              "      box-shadow: 0px 1px 2px rgba(60, 64, 67, 0.3), 0px 1px 3px 1px rgba(60, 64, 67, 0.15);\n",
              "      fill: #174EA6;\n",
              "    }\n",
              "\n",
              "    .colab-df-buttons div {\n",
              "      margin-bottom: 4px;\n",
              "    }\n",
              "\n",
              "    [theme=dark] .colab-df-convert {\n",
              "      background-color: #3B4455;\n",
              "      fill: #D2E3FC;\n",
              "    }\n",
              "\n",
              "    [theme=dark] .colab-df-convert:hover {\n",
              "      background-color: #434B5C;\n",
              "      box-shadow: 0px 1px 3px 1px rgba(0, 0, 0, 0.15);\n",
              "      filter: drop-shadow(0px 1px 2px rgba(0, 0, 0, 0.3));\n",
              "      fill: #FFFFFF;\n",
              "    }\n",
              "  </style>\n",
              "\n",
              "    <script>\n",
              "      const buttonEl =\n",
              "        document.querySelector('#df-98a98cce-93ec-4982-8f57-5654f206918b button.colab-df-convert');\n",
              "      buttonEl.style.display =\n",
              "        google.colab.kernel.accessAllowed ? 'block' : 'none';\n",
              "\n",
              "      async function convertToInteractive(key) {\n",
              "        const element = document.querySelector('#df-98a98cce-93ec-4982-8f57-5654f206918b');\n",
              "        const dataTable =\n",
              "          await google.colab.kernel.invokeFunction('convertToInteractive',\n",
              "                                                    [key], {});\n",
              "        if (!dataTable) return;\n",
              "\n",
              "        const docLinkHtml = 'Like what you see? Visit the ' +\n",
              "          '<a target=\"_blank\" href=https://colab.research.google.com/notebooks/data_table.ipynb>data table notebook</a>'\n",
              "          + ' to learn more about interactive tables.';\n",
              "        element.innerHTML = '';\n",
              "        dataTable['output_type'] = 'display_data';\n",
              "        await google.colab.output.renderOutput(dataTable, element);\n",
              "        const docLink = document.createElement('div');\n",
              "        docLink.innerHTML = docLinkHtml;\n",
              "        element.appendChild(docLink);\n",
              "      }\n",
              "    </script>\n",
              "  </div>\n",
              "\n",
              "\n",
              "<div id=\"df-b8a357f1-10f3-49b2-b8f7-87e25b0851dd\">\n",
              "  <button class=\"colab-df-quickchart\" onclick=\"quickchart('df-b8a357f1-10f3-49b2-b8f7-87e25b0851dd')\"\n",
              "            title=\"Suggest charts\"\n",
              "            style=\"display:none;\">\n",
              "\n",
              "<svg xmlns=\"http://www.w3.org/2000/svg\" height=\"24px\"viewBox=\"0 0 24 24\"\n",
              "     width=\"24px\">\n",
              "    <g>\n",
              "        <path d=\"M19 3H5c-1.1 0-2 .9-2 2v14c0 1.1.9 2 2 2h14c1.1 0 2-.9 2-2V5c0-1.1-.9-2-2-2zM9 17H7v-7h2v7zm4 0h-2V7h2v10zm4 0h-2v-4h2v4z\"/>\n",
              "    </g>\n",
              "</svg>\n",
              "  </button>\n",
              "\n",
              "<style>\n",
              "  .colab-df-quickchart {\n",
              "      --bg-color: #E8F0FE;\n",
              "      --fill-color: #1967D2;\n",
              "      --hover-bg-color: #E2EBFA;\n",
              "      --hover-fill-color: #174EA6;\n",
              "      --disabled-fill-color: #AAA;\n",
              "      --disabled-bg-color: #DDD;\n",
              "  }\n",
              "\n",
              "  [theme=dark] .colab-df-quickchart {\n",
              "      --bg-color: #3B4455;\n",
              "      --fill-color: #D2E3FC;\n",
              "      --hover-bg-color: #434B5C;\n",
              "      --hover-fill-color: #FFFFFF;\n",
              "      --disabled-bg-color: #3B4455;\n",
              "      --disabled-fill-color: #666;\n",
              "  }\n",
              "\n",
              "  .colab-df-quickchart {\n",
              "    background-color: var(--bg-color);\n",
              "    border: none;\n",
              "    border-radius: 50%;\n",
              "    cursor: pointer;\n",
              "    display: none;\n",
              "    fill: var(--fill-color);\n",
              "    height: 32px;\n",
              "    padding: 0;\n",
              "    width: 32px;\n",
              "  }\n",
              "\n",
              "  .colab-df-quickchart:hover {\n",
              "    background-color: var(--hover-bg-color);\n",
              "    box-shadow: 0 1px 2px rgba(60, 64, 67, 0.3), 0 1px 3px 1px rgba(60, 64, 67, 0.15);\n",
              "    fill: var(--button-hover-fill-color);\n",
              "  }\n",
              "\n",
              "  .colab-df-quickchart-complete:disabled,\n",
              "  .colab-df-quickchart-complete:disabled:hover {\n",
              "    background-color: var(--disabled-bg-color);\n",
              "    fill: var(--disabled-fill-color);\n",
              "    box-shadow: none;\n",
              "  }\n",
              "\n",
              "  .colab-df-spinner {\n",
              "    border: 2px solid var(--fill-color);\n",
              "    border-color: transparent;\n",
              "    border-bottom-color: var(--fill-color);\n",
              "    animation:\n",
              "      spin 1s steps(1) infinite;\n",
              "  }\n",
              "\n",
              "  @keyframes spin {\n",
              "    0% {\n",
              "      border-color: transparent;\n",
              "      border-bottom-color: var(--fill-color);\n",
              "      border-left-color: var(--fill-color);\n",
              "    }\n",
              "    20% {\n",
              "      border-color: transparent;\n",
              "      border-left-color: var(--fill-color);\n",
              "      border-top-color: var(--fill-color);\n",
              "    }\n",
              "    30% {\n",
              "      border-color: transparent;\n",
              "      border-left-color: var(--fill-color);\n",
              "      border-top-color: var(--fill-color);\n",
              "      border-right-color: var(--fill-color);\n",
              "    }\n",
              "    40% {\n",
              "      border-color: transparent;\n",
              "      border-right-color: var(--fill-color);\n",
              "      border-top-color: var(--fill-color);\n",
              "    }\n",
              "    60% {\n",
              "      border-color: transparent;\n",
              "      border-right-color: var(--fill-color);\n",
              "    }\n",
              "    80% {\n",
              "      border-color: transparent;\n",
              "      border-right-color: var(--fill-color);\n",
              "      border-bottom-color: var(--fill-color);\n",
              "    }\n",
              "    90% {\n",
              "      border-color: transparent;\n",
              "      border-bottom-color: var(--fill-color);\n",
              "    }\n",
              "  }\n",
              "</style>\n",
              "\n",
              "  <script>\n",
              "    async function quickchart(key) {\n",
              "      const quickchartButtonEl =\n",
              "        document.querySelector('#' + key + ' button');\n",
              "      quickchartButtonEl.disabled = true;  // To prevent multiple clicks.\n",
              "      quickchartButtonEl.classList.add('colab-df-spinner');\n",
              "      try {\n",
              "        const charts = await google.colab.kernel.invokeFunction(\n",
              "            'suggestCharts', [key], {});\n",
              "      } catch (error) {\n",
              "        console.error('Error during call to suggestCharts:', error);\n",
              "      }\n",
              "      quickchartButtonEl.classList.remove('colab-df-spinner');\n",
              "      quickchartButtonEl.classList.add('colab-df-quickchart-complete');\n",
              "    }\n",
              "    (() => {\n",
              "      let quickchartButtonEl =\n",
              "        document.querySelector('#df-b8a357f1-10f3-49b2-b8f7-87e25b0851dd button');\n",
              "      quickchartButtonEl.style.display =\n",
              "        google.colab.kernel.accessAllowed ? 'block' : 'none';\n",
              "    })();\n",
              "  </script>\n",
              "</div>\n",
              "    </div>\n",
              "  </div>\n"
            ],
            "application/vnd.google.colaboratory.intrinsic+json": {
              "type": "dataframe",
              "variable_name": "data"
            }
          },
          "metadata": {},
          "execution_count": 2
        }
      ]
    },
    {
      "cell_type": "markdown",
      "source": [
        "# **2. Initial Data Analysis**"
      ],
      "metadata": {
        "id": "uAKeDp7mikSW"
      }
    },
    {
      "cell_type": "code",
      "source": [
        "HARDWARE = data.groupby('CATEGORY_NAME')['QUANTITY'].sum()"
      ],
      "metadata": {
        "id": "AL32mF3iiniW"
      },
      "execution_count": null,
      "outputs": []
    },
    {
      "cell_type": "code",
      "source": [
        "numberData = ['STANDARD_COST', 'LIST_PRICE', 'QUANTITY']"
      ],
      "metadata": {
        "id": "F-DHGOyvipwL"
      },
      "execution_count": null,
      "outputs": []
    },
    {
      "cell_type": "code",
      "source": [
        "data[numberData].mean()"
      ],
      "metadata": {
        "colab": {
          "base_uri": "https://localhost:8080/"
        },
        "id": "B84RGBpaisWf",
        "outputId": "81b1fd73-a591-4163-8325-8a265e1c8acb"
      },
      "execution_count": null,
      "outputs": [
        {
          "output_type": "execute_result",
          "data": {
            "text/plain": [
              "STANDARD_COST    765.520405\n",
              "LIST_PRICE       950.993327\n",
              "QUANTITY         107.474820\n",
              "dtype: float64"
            ]
          },
          "metadata": {},
          "execution_count": 5
        }
      ]
    },
    {
      "cell_type": "code",
      "source": [
        "data[numberData].median()"
      ],
      "metadata": {
        "colab": {
          "base_uri": "https://localhost:8080/"
        },
        "id": "PRKK0MlliuSO",
        "outputId": "f12e0c36-b05d-419e-9b72-366ac898c56c"
      },
      "execution_count": null,
      "outputs": [
        {
          "output_type": "execute_result",
          "data": {
            "text/plain": [
              "STANDARD_COST    582.02\n",
              "LIST_PRICE       744.98\n",
              "QUANTITY          98.00\n",
              "dtype: float64"
            ]
          },
          "metadata": {},
          "execution_count": 6
        }
      ]
    },
    {
      "cell_type": "code",
      "source": [
        "data[numberData].std()"
      ],
      "metadata": {
        "colab": {
          "base_uri": "https://localhost:8080/"
        },
        "id": "Rl7DJFUgiwWV",
        "outputId": "825ea6a1-9d79-43d5-8020-66b052d2cf93"
      },
      "execution_count": null,
      "outputs": [
        {
          "output_type": "execute_result",
          "data": {
            "text/plain": [
              "STANDARD_COST    794.252142\n",
              "LIST_PRICE       991.070482\n",
              "QUANTITY          68.008413\n",
              "dtype: float64"
            ]
          },
          "metadata": {},
          "execution_count": 7
        }
      ]
    },
    {
      "cell_type": "code",
      "source": [
        "uniqCategoryID = data.groupby('PRODUCT_ID')['PRODUCT_ID'].count()\n",
        "print(uniqCategoryID)\n",
        "print(' ')\n",
        "uniqCategory_Name = data.groupby('CATEGORY_NAME')['CATEGORY_NAME'].count()\n",
        "print(uniqCategory_Name)"
      ],
      "metadata": {
        "colab": {
          "base_uri": "https://localhost:8080/"
        },
        "id": "vGH0Ld-8iyIN",
        "outputId": "d36cf981-3b8d-4f85-8498-7445c6bb9be4"
      },
      "execution_count": null,
      "outputs": [
        {
          "output_type": "stream",
          "name": "stdout",
          "text": [
            "PRODUCT_ID\n",
            "2      6\n",
            "3      9\n",
            "4      9\n",
            "5      9\n",
            "6      9\n",
            "      ..\n",
            "284    5\n",
            "285    5\n",
            "286    5\n",
            "287    1\n",
            "288    1\n",
            "Name: PRODUCT_ID, Length: 208, dtype: int64\n",
            " \n",
            "CATEGORY_NAME\n",
            "CPU             222\n",
            "Mother Board    156\n",
            "Storage         416\n",
            "Video Card      318\n",
            "Name: CATEGORY_NAME, dtype: int64\n"
          ]
        }
      ]
    },
    {
      "cell_type": "markdown",
      "source": [
        "# **3. Category Analysis**"
      ],
      "metadata": {
        "id": "rWCzJCiCizhu"
      }
    },
    {
      "cell_type": "code",
      "source": [
        "HARDWARE.plot(kind = 'bar')\n",
        "plt.xlabel('')\n",
        "plt.ylabel('Number of Products')\n",
        "plt.title('Products')\n",
        "plt.xticks(rotation = 50)\n",
        "plt.show"
      ],
      "metadata": {
        "colab": {
          "base_uri": "https://localhost:8080/",
          "height": 690
        },
        "id": "fhXg7LwFi13-",
        "outputId": "1f8689f8-3fb8-4442-ddbe-2278409f684e"
      },
      "execution_count": null,
      "outputs": [
        {
          "output_type": "execute_result",
          "data": {
            "text/plain": [
              "<function matplotlib.pyplot.show(close=None, block=None)>"
            ],
            "text/html": [
              "<div style=\"max-width:800px; border: 1px solid var(--colab-border-color);\"><style>\n",
              "      pre.function-repr-contents {\n",
              "        overflow-x: auto;\n",
              "        padding: 8px 12px;\n",
              "        max-height: 500px;\n",
              "      }\n",
              "\n",
              "      pre.function-repr-contents.function-repr-contents-collapsed {\n",
              "        cursor: pointer;\n",
              "        max-height: 100px;\n",
              "      }\n",
              "    </style>\n",
              "    <pre style=\"white-space: initial; background:\n",
              "         var(--colab-secondary-surface-color); padding: 8px 12px;\n",
              "         border-bottom: 1px solid var(--colab-border-color);\"><b>matplotlib.pyplot.show</b><br/>def show(*args, **kwargs)</pre><pre class=\"function-repr-contents function-repr-contents-collapsed\" style=\"\"><a class=\"filepath\" style=\"display:none\" href=\"#\">/usr/local/lib/python3.10/dist-packages/matplotlib/pyplot.py</a>Display all open figures.\n",
              "\n",
              "Parameters\n",
              "----------\n",
              "block : bool, optional\n",
              "    Whether to wait for all figures to be closed before returning.\n",
              "\n",
              "    If `True` block and run the GUI main loop until all figure windows\n",
              "    are closed.\n",
              "\n",
              "    If `False` ensure that all figure windows are displayed and return\n",
              "    immediately.  In this case, you are responsible for ensuring\n",
              "    that the event loop is running to have responsive figures.\n",
              "\n",
              "    Defaults to True in non-interactive mode and to False in interactive\n",
              "    mode (see `.pyplot.isinteractive`).\n",
              "\n",
              "See Also\n",
              "--------\n",
              "ion : Enable interactive mode, which shows / updates the figure after\n",
              "      every plotting command, so that calling ``show()`` is not necessary.\n",
              "ioff : Disable interactive mode.\n",
              "savefig : Save the figure to an image file instead of showing it on screen.\n",
              "\n",
              "Notes\n",
              "-----\n",
              "**Saving figures to file and showing a window at the same time**\n",
              "\n",
              "If you want an image file as well as a user interface window, use\n",
              "`.pyplot.savefig` before `.pyplot.show`. At the end of (a blocking)\n",
              "``show()`` the figure is closed and thus unregistered from pyplot. Calling\n",
              "`.pyplot.savefig` afterwards would save a new and thus empty figure. This\n",
              "limitation of command order does not apply if the show is non-blocking or\n",
              "if you keep a reference to the figure and use `.Figure.savefig`.\n",
              "\n",
              "**Auto-show in jupyter notebooks**\n",
              "\n",
              "The jupyter backends (activated via ``%matplotlib inline``,\n",
              "``%matplotlib notebook``, or ``%matplotlib widget``), call ``show()`` at\n",
              "the end of every cell by default. Thus, you usually don&#x27;t have to call it\n",
              "explicitly there.</pre>\n",
              "      <script>\n",
              "      if (google.colab.kernel.accessAllowed && google.colab.files && google.colab.files.view) {\n",
              "        for (const element of document.querySelectorAll('.filepath')) {\n",
              "          element.style.display = 'block'\n",
              "          element.onclick = (event) => {\n",
              "            event.preventDefault();\n",
              "            event.stopPropagation();\n",
              "            google.colab.files.view(element.textContent, 401);\n",
              "          };\n",
              "        }\n",
              "      }\n",
              "      for (const element of document.querySelectorAll('.function-repr-contents')) {\n",
              "        element.onclick = (event) => {\n",
              "          event.preventDefault();\n",
              "          event.stopPropagation();\n",
              "          element.classList.toggle('function-repr-contents-collapsed');\n",
              "        };\n",
              "      }\n",
              "      </script>\n",
              "      </div>"
            ]
          },
          "metadata": {},
          "execution_count": 9
        },
        {
          "output_type": "display_data",
          "data": {
            "text/plain": [
              "<Figure size 640x480 with 1 Axes>"
            ],
            "image/png": "[encoded data removed]"
          },
          "metadata": {}
        }
      ]
    },
    {
      "cell_type": "markdown",
      "source": [
        "The product that has the highest number is Storage."
      ],
      "metadata": {
        "id": "kuU8ig1mi7Qd"
      }
    },
    {
      "cell_type": "markdown",
      "source": [
        "# **4. Cost and Price Analysis**"
      ],
      "metadata": {
        "id": "S8U68Qk1jBmL"
      }
    },
    {
      "cell_type": "code",
      "source": [
        "standardCost_ave = data['STANDARD_COST'].mean()\n",
        "listPrice_ave = data['LIST_PRICE'].mean()\n",
        "\n",
        "highestStandard_Cost =  data.loc[data['STANDARD_COST'].idxmax(), 'PRODUCT_NAME']\n",
        "highestList_Price = data.loc[data['LIST_PRICE'].idxmax(), 'PRODUCT_NAME']\n"
      ],
      "metadata": {
        "id": "b4mqTHvFi6pt"
      },
      "execution_count": null,
      "outputs": []
    },
    {
      "cell_type": "markdown",
      "source": [
        "# **5. Location Analysis**"
      ],
      "metadata": {
        "id": "y5iqDc3QjNOz"
      }
    },
    {
      "cell_type": "code",
      "source": [
        "city = data.groupby('CITY')['QUANTITY'].sum()\n",
        "highestqtt_city = city.idxmax()\n",
        "\n",
        "state = data.groupby('STATE')['QUANTITY'].sum()\n",
        "highestqtt_state = state.idxmax()"
      ],
      "metadata": {
        "id": "9_nAdrAejMwt"
      },
      "execution_count": null,
      "outputs": []
    },
    {
      "cell_type": "markdown",
      "source": [
        "# **6. Insights and Reporting**"
      ],
      "metadata": {
        "id": "CUlPMe5SjSMM"
      }
    },
    {
      "cell_type": "code",
      "source": [
        "report = \"\"\"\n",
        "\n",
        "Analysis Report\n",
        "\n",
        "Initial Data Analysis:\n",
        "\n",
        "Mean:\n",
        "{}\n",
        "\n",
        "Median:\n",
        "{}\n",
        "\n",
        "Standard Deviation\n",
        "{}\n",
        "\n",
        "Category Analysis:\n",
        "  A bar chart is attached above to visualize the distribution of products across categories.\n",
        "  The category that has the highest number of product is Storage.\n",
        "\n",
        "Cost and Price Analysis:\n",
        "  The Standard Cost average is equal to {}\n",
        "  The Price List average is equal to {}\n",
        "  The Product with the Highest Standard Cost is {}\n",
        "  The Product with the Highest List Price is {}\n",
        "\n",
        "Location Analysis:\n",
        "  The City with the highest quantity of products in stock is {}\n",
        "  The State with the highest quantity of products in stock is {}\n",
        "\n",
        "\"\"\". format(data[numberData].mean(), data[numberData].median(), data[numberData].std(), standardCost_ave, listPrice_ave, highestStandard_Cost, highestList_Price, highestqtt_city, highestqtt_state)\n",
        "print(report)"
      ],
      "metadata": {
        "id": "_spojTV6jVb0",
        "outputId": "66ea27c7-9401-4ca0-e49c-36bd34aba5cb",
        "colab": {
          "base_uri": "https://localhost:8080/"
        }
      },
      "execution_count": null,
      "outputs": [
        {
          "output_type": "stream",
          "name": "stdout",
          "text": [
            "\n",
            "\n",
            "Analysis Report\n",
            "\n",
            "Initial Data Analysis:\n",
            "\n",
            "Mean:\n",
            "STANDARD_COST    765.520405\n",
            "LIST_PRICE       950.993327\n",
            "QUANTITY         107.474820\n",
            "dtype: float64\n",
            "\n",
            "Median:\n",
            "STANDARD_COST    582.02\n",
            "LIST_PRICE       744.98\n",
            "QUANTITY          98.00\n",
            "dtype: float64\n",
            "\n",
            "Standard Deviation\n",
            "STANDARD_COST    794.252142\n",
            "LIST_PRICE       991.070482\n",
            "QUANTITY          68.008413\n",
            "dtype: float64\n",
            "\n",
            "Category Analysis:\n",
            "  A bar chart is attached above to visualize the distribution of products across categories.\n",
            "  The category that has the highest number of product is Storage.\n",
            "\n",
            "Cost and Price Analysis:\n",
            "  The Standard Cost average is equal to 765.520404676259\n",
            "  The Price List average is equal to 950.9933273381293\n",
            "  The Product with the Highest Standard Cost is Intel SSDPECME040T401\n",
            "  The Product with the Highest List Price is Intel SSDPECME040T401\n",
            "\n",
            "Location Analysis:\n",
            "  The City with the highest quantity of products in stock is South San Francisco\n",
            "  The State with the highest quantity of products in stock is California\n",
            "\n",
            "\n"
          ]
        }
      ]
    },
    {
      "cell_type": "code",
      "source": [
        "with open('report.txt', 'w') as f:\n",
        "  f.write(report)"
      ],
      "metadata": {
        "id": "1WOVB6RZjZDO"
      },
      "execution_count": null,
      "outputs": []
    }
  ]
}